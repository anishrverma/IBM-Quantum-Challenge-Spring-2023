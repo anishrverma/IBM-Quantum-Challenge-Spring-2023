{
 "cells": [
  {
   "cell_type": "markdown",
   "id": "6c0b91dd-fd14-4bd9-955c-bb7580ab71ed",
   "metadata": {},
   "source": [
    "# Challenge 5: Using 127 Qubits\n",
    "\n",
    "Congratulations on solving the previous challenges! You have shown that you can successfully use dynamic circuits.\n",
    "As a reward for making it this far you will be able to use one of our 127 qubit devices.\n",
    "\n",
    "As reminder, in order to earn a badge for completing the Challenge, you need to have finished 4 out of the 5 labs. We made that decision on purpose, because we know this lab will be both (a) challenging technically, and (b) using some of our most cutting edge hardware. The truth of releasing devices above 100 qubits for the public to use is that there may be significant delays in your ability to run your jobs. It's possible (although we hope not!) that you won't successfully run your job by the end of the Challenge. Please know we're doing everything possible behind the scenes to make your experience a success, but we also have a record number of participants in this year's Challenge. Be kind, and don't submit your circuits over and over which will clog the queue.\n",
    "\n",
    "Alright, take a deep breath. Here we go!"
   ]
  },
  {
   "cell_type": "markdown",
   "id": "6d2618d2-cfb6-4902-8e0f-c7fab74a84a0",
   "metadata": {},
   "source": [
    "You have seen before that working with actual physical devices brings its own set of challenges. This is even more true when you want to use a large number of qubits, since the pathways can become long, and you have to be mindful of introducing errors. We will use ibm_sherbrook as our device.\n",
    "\n",
    "In this challenge we want you to prepare a fully entangled 127 qubit state, the so called \"GHZ-state\", in a clever way.\n",
    "\n",
    "After that, we will guide you to apply your knowledge of error correction to the 127 qubit GHZ-state in order to then create a good 54 qubit GHZ-state. For this, we will use the even numbered qubits for the 54 qubit GHZ-state, which leaves the odd numbered qubits to be used as stabilizers.\n",
    "\n",
    "*Note: We will use the same register for the odd and even qubits, even though they will be used differently. We do this because it will make it easier to create the initial 127 qubit GHZ-state, especially when you want to optimize the depth manually.*"
   ]
  },
  {
   "cell_type": "code",
   "execution_count": 1,
   "id": "ff5a01f6-c357-4d6d-8c86-95991b311231",
   "metadata": {
    "slideshow": {
     "slide_type": "-"
    },
    "tags": []
   },
   "outputs": [],
   "source": [
    "# Importing all the parts we need\n",
    "from typing import List, Optional\n",
    "\n",
    "from qiskit import transpile, QuantumCircuit, QuantumRegister, ClassicalRegister\n",
    "from qiskit.result import marginal_counts\n",
    "\n",
    "import warnings\n",
    "\n",
    "warnings.filterwarnings(\"ignore\")\n",
    "\n",
    "import math\n",
    "\n",
    "pi = math.pi\n",
    "\n",
    "# Preparing registers\n",
    "quantum_register = QuantumRegister(127)\n",
    "classical_register = ClassicalRegister(127)\n",
    "\n",
    "# For simplicity we map the physical qubits to the logical qubits directly using the same number.\n",
    "initial_layout = [\n",
    "    0,\n",
    "    1,\n",
    "    2,\n",
    "    3,\n",
    "    4,\n",
    "    5,\n",
    "    6,\n",
    "    7,\n",
    "    8,\n",
    "    9,\n",
    "    10,\n",
    "    11,\n",
    "    12,\n",
    "    13,\n",
    "    14,\n",
    "    15,\n",
    "    16,\n",
    "    17,\n",
    "    18,\n",
    "    19,\n",
    "    20,\n",
    "    21,\n",
    "    22,\n",
    "    23,\n",
    "    24,\n",
    "    25,\n",
    "    26,\n",
    "    27,\n",
    "    28,\n",
    "    29,\n",
    "    30,\n",
    "    31,\n",
    "    32,\n",
    "    33,\n",
    "    34,\n",
    "    35,\n",
    "    36,\n",
    "    37,\n",
    "    38,\n",
    "    39,\n",
    "    40,\n",
    "    41,\n",
    "    42,\n",
    "    43,\n",
    "    44,\n",
    "    45,\n",
    "    46,\n",
    "    47,\n",
    "    48,\n",
    "    49,\n",
    "    50,\n",
    "    51,\n",
    "    52,\n",
    "    53,\n",
    "    54,\n",
    "    55,\n",
    "    56,\n",
    "    57,\n",
    "    58,\n",
    "    59,\n",
    "    60,\n",
    "    61,\n",
    "    62,\n",
    "    63,\n",
    "    64,\n",
    "    65,\n",
    "    66,\n",
    "    67,\n",
    "    68,\n",
    "    69,\n",
    "    70,\n",
    "    71,\n",
    "    72,\n",
    "    73,\n",
    "    74,\n",
    "    75,\n",
    "    76,\n",
    "    77,\n",
    "    78,\n",
    "    79,\n",
    "    80,\n",
    "    81,\n",
    "    82,\n",
    "    83,\n",
    "    84,\n",
    "    85,\n",
    "    86,\n",
    "    87,\n",
    "    88,\n",
    "    89,\n",
    "    90,\n",
    "    91,\n",
    "    92,\n",
    "    93,\n",
    "    94,\n",
    "    95,\n",
    "    96,\n",
    "    97,\n",
    "    98,\n",
    "    99,\n",
    "    100,\n",
    "    101,\n",
    "    102,\n",
    "    103,\n",
    "    104,\n",
    "    105,\n",
    "    106,\n",
    "    107,\n",
    "    108,\n",
    "    109,\n",
    "    110,\n",
    "    111,\n",
    "    112,\n",
    "    113,\n",
    "    114,\n",
    "    115,\n",
    "    116,\n",
    "    117,\n",
    "    118,\n",
    "    119,\n",
    "    120,\n",
    "    121,\n",
    "    122,\n",
    "    123,\n",
    "    124,\n",
    "    125,\n",
    "    126,\n",
    "]\n",
    "# The \"even\"\" qubits will be used for the 54 qubit GHZ-state\n",
    "ghz_qubits = [\n",
    "    0,\n",
    "    2,\n",
    "    4,\n",
    "    6,\n",
    "    8,\n",
    "    10,\n",
    "    12,\n",
    "    18,\n",
    "    20,\n",
    "    22,\n",
    "    24,\n",
    "    26,\n",
    "    28,\n",
    "    30,\n",
    "    32,\n",
    "    37,\n",
    "    39,\n",
    "    41,\n",
    "    43,\n",
    "    45,\n",
    "    47,\n",
    "    49,\n",
    "    51,\n",
    "    56,\n",
    "    58,\n",
    "    60,\n",
    "    62,\n",
    "    64,\n",
    "    66,\n",
    "    68,\n",
    "    70,\n",
    "    75,\n",
    "    77,\n",
    "    79,\n",
    "    81,\n",
    "    83,\n",
    "    85,\n",
    "    87,\n",
    "    89,\n",
    "    94,\n",
    "    96,\n",
    "    98,\n",
    "    100,\n",
    "    102,\n",
    "    104,\n",
    "    106,\n",
    "    108,\n",
    "    114,\n",
    "    116,\n",
    "    118,\n",
    "    120,\n",
    "    122,\n",
    "    124,\n",
    "    126,\n",
    "]\n",
    "# The \"odd\" qubits will be used as the stabilizers\n",
    "stabilizer_qubits = [\n",
    "    1,\n",
    "    3,\n",
    "    5,\n",
    "    7,\n",
    "    9,\n",
    "    11,\n",
    "    14,\n",
    "    15,\n",
    "    16,\n",
    "    17,\n",
    "    19,\n",
    "    21,\n",
    "    23,\n",
    "    25,\n",
    "    27,\n",
    "    29,\n",
    "    31,\n",
    "    33,\n",
    "    34,\n",
    "    35,\n",
    "    36,\n",
    "    38,\n",
    "    40,\n",
    "    42,\n",
    "    44,\n",
    "    46,\n",
    "    48,\n",
    "    50,\n",
    "    52,\n",
    "    53,\n",
    "    54,\n",
    "    55,\n",
    "    57,\n",
    "    59,\n",
    "    61,\n",
    "    63,\n",
    "    65,\n",
    "    67,\n",
    "    69,\n",
    "    71,\n",
    "    72,\n",
    "    73,\n",
    "    74,\n",
    "    76,\n",
    "    78,\n",
    "    80,\n",
    "    82,\n",
    "    84,\n",
    "    86,\n",
    "    88,\n",
    "    90,\n",
    "    91,\n",
    "    92,\n",
    "    93,\n",
    "    95,\n",
    "    97,\n",
    "    99,\n",
    "    101,\n",
    "    103,\n",
    "    105,\n",
    "    107,\n",
    "    109,\n",
    "    110,\n",
    "    111,\n",
    "    112,\n",
    "    115,\n",
    "    117,\n",
    "    119,\n",
    "    121,\n",
    "    123,\n",
    "    125,\n",
    "]"
   ]
  },
  {
   "cell_type": "markdown",
   "id": "5ecb607c-a882-49c4-acce-d26d62c2cd69",
   "metadata": {
    "slideshow": {
     "slide_type": "-"
    },
    "tags": []
   },
   "source": [
    "## Step 1: Creating a Large GHZ-state\n",
    "\n",
    "In many quantum algorithms it is required to entangle several qubits with each other. One often used state in algorithms is the generalized GHZ-state, the state $(\\alpha |00...0\\rangle + \\beta |11...1\\rangle)$ with $\\alpha = \\beta$\n",
    "\n",
    "The GHZ-state is fully entangled and can be generalized to any number of qubits. We will use it to create an 127 qubit GHZ-state! \n",
    "**No matter how many qubits the GHZ-state has when measured either all qubits are 0 or all qubits are 1.**\n",
    "\n",
    "\n",
    "The challenge here is not to entangle 127 qubits in theory, _but on an actual device_. This means you should take the layout of the device into account (e.g. avoid using CX-gates between qubits which are not directly connected with each other). You should also try to get the circuit depth as low as possible in order to reduce noise."
   ]
  },
  {
   "cell_type": "markdown",
   "id": "cd7d72be",
   "metadata": {},
   "source": [
    "### Exercise 1\n",
    "\n",
    "Generate a 127 qubit GHZ-state for the 127-qubit device `ibm_sherbrook` using only Hadamard and CNOT gates. Try to do this with the lowest circuit depth possible.\n",
    "\n",
    "*Hint: It can help to think first about how you would do it (with minimum depth) for an ideal device where all qubits are connected with each other.*"
   ]
  },
  {
   "cell_type": "code",
   "execution_count": 2,
   "id": "432aaaed-a05b-4397-8cb8-5e9c93980473",
   "metadata": {
    "slideshow": {
     "slide_type": "-"
    },
    "tags": []
   },
   "outputs": [
    {
     "name": "stdout",
     "output_type": "stream",
     "text": [
      "16\n"
     ]
    }
   ],
   "source": [
    "# def generate_ghz127():\n",
    "#     qc = QuantumCircuit(quantum_register, classical_register)\n",
    "    \n",
    "#     ####### your code goes here #######\n",
    "#     qc.h(0)\n",
    "    \n",
    "#     for i in range(12):\n",
    "#         qc.cx(i,i+1)\n",
    "#     for i in range(18,32):\n",
    "#         qc.cx(i,i+1)\n",
    "#     for i in range(37,51):\n",
    "#         qc.cx(i,i+1)\n",
    "#     for i in range(56,70):\n",
    "#         qc.cx(i,i+1)\n",
    "#     for i in range(75,89):\n",
    "#         qc.cx(i,i+1)\n",
    "#     for i in range(94,108):\n",
    "#         qc.cx(i,i+1)\n",
    "#     for i in range(114,126):\n",
    "#         qc.cx(i,i+1)\n",
    "    \n",
    "#     qc.cx(0,14)\n",
    "#     qc.cx(14,18)\n",
    "#     qc.cx(4,15)\n",
    "#     qc.cx(15,22)\n",
    "#     qc.cx(8,16)\n",
    "#     qc.cx(16,26)\n",
    "#     qc.cx(12,17)\n",
    "#     qc.cx(17,30)\n",
    "    \n",
    "#     qc.cx(20,33)\n",
    "#     qc.cx(33,39)\n",
    "#     qc.cx(24,34)\n",
    "#     qc.cx(34,43)\n",
    "#     qc.cx(28,35)\n",
    "#     qc.cx(35,47)\n",
    "#     qc.cx(32,36)\n",
    "#     qc.cx(36,51)\n",
    "    \n",
    "#     qc.cx(37,52)\n",
    "#     qc.cx(52,56)\n",
    "#     qc.cx(41,53)\n",
    "#     qc.cx(53,60)\n",
    "#     qc.cx(45,54)\n",
    "#     qc.cx(54,64)\n",
    "#     qc.cx(49,55)\n",
    "#     qc.cx(55,68)\n",
    "    \n",
    "#     qc.cx(58,71)\n",
    "#     qc.cx(71,77)\n",
    "#     qc.cx(62,72)\n",
    "#     qc.cx(72,81)\n",
    "#     qc.cx(66,73)\n",
    "#     qc.cx(73,85)\n",
    "#     qc.cx(70,74)\n",
    "#     qc.cx(74,89)\n",
    "    \n",
    "#     qc.cx(75,90)\n",
    "#     qc.cx(90,94)\n",
    "#     qc.cx(79,91)\n",
    "#     qc.cx(91,98)\n",
    "#     qc.cx(83,92)\n",
    "#     qc.cx(92,102)\n",
    "#     qc.cx(87,93)\n",
    "#     qc.cx(93,106)\n",
    "    \n",
    "#     qc.cx(96,109)\n",
    "#     qc.cx(109,114)\n",
    "#     qc.cx(100,110)\n",
    "#     qc.cx(110,118)\n",
    "#     qc.cx(104,111)\n",
    "#     qc.cx(111,122)\n",
    "#     qc.cx(108,112)\n",
    "#     qc.cx(112,126)\n",
    "    \n",
    "#     return qc\n",
    "\n",
    "\n",
    "# ghz_circuit = generate_ghz127()\n",
    "# print(ghz_circuit.depth())"
   ]
  },
  {
   "cell_type": "code",
   "execution_count": 4,
   "id": "1e11600a-5450-4609-b5d6-ca5542b75b93",
   "metadata": {
    "tags": []
   },
   "outputs": [
    {
     "data": {
      "text/plain": [
       "127"
      ]
     },
     "execution_count": 4,
     "metadata": {},
     "output_type": "execute_result"
    }
   ],
   "source": [
    "len(initial_layout)"
   ]
  },
  {
   "cell_type": "code",
   "execution_count": 69,
   "id": "9838b587-a219-4ba9-a80f-41c68700bd99",
   "metadata": {
    "slideshow": {
     "slide_type": "-"
    },
    "tags": []
   },
   "outputs": [
    {
     "name": "stdout",
     "output_type": "stream",
     "text": [
      "127\n"
     ]
    }
   ],
   "source": [
    "# def generate_ghz127():\n",
    "#     qc = QuantumCircuit(quantum_register, classical_register)\n",
    "    \n",
    "#     ####### your code goes here #######\n",
    "#     qc.h(0)\n",
    "#     for i in range(1,len(initial_layout)):\n",
    "#         qc.cx(0,initial_layout[i])\n",
    "#     return qc\n",
    "\n",
    "\n",
    "# ghz_circuit = generate_ghz127()\n",
    "# print(ghz_circuit.depth())"
   ]
  },
  {
   "cell_type": "code",
   "execution_count": 28,
   "id": "eb9e439c-0a18-4fdf-93ef-a1de0038c075",
   "metadata": {
    "slideshow": {
     "slide_type": "-"
    },
    "tags": []
   },
   "outputs": [
    {
     "name": "stdout",
     "output_type": "stream",
     "text": [
      "20\n"
     ]
    }
   ],
   "source": [
    "def generate_ghz127():\n",
    "    qc = QuantumCircuit(quantum_register, classical_register)\n",
    "    \n",
    "    ####### your code goes here #######\n",
    "    ####### your code goes here #######\n",
    "    qmap = backend.coupling_map\n",
    "    \n",
    "    already_cnoted = [64]\n",
    "    \n",
    "    qc.h(quantum_register[64])\n",
    "    \n",
    "    while len(already_cnoted) < 127:\n",
    "        for edge in qmap:\n",
    "            if edge[0] in already_cnoted and not edge[1] in already_cnoted:\n",
    "                qc.cx(quantum_register[edge[0]], quantum_register[edge[1]])\n",
    "                already_cnoted.append(edge[1])\n",
    "            if edge[1] in already_cnoted and not edge[0] in already_cnoted:\n",
    "                qc.cx(quantum_register[edge[1]], quantum_register[edge[0]])\n",
    "                already_cnoted.append(edge[0])\n",
    "    return qc\n",
    "\n",
    "\n",
    "ghz_circuit = generate_ghz127()\n",
    "print(ghz_circuit.depth())"
   ]
  },
  {
   "cell_type": "code",
   "execution_count": 30,
   "id": "83761a01-038c-4ab1-8e83-911b820d85b1",
   "metadata": {
    "tags": []
   },
   "outputs": [
    {
     "data": {
      "image/png": "[encoded data removed]",
      "text/plain": [
       "<Figure size 1090.82x5367.83 with 1 Axes>"
      ]
     },
     "execution_count": 30,
     "metadata": {},
     "output_type": "execute_result"
    }
   ],
   "source": [
    "ghz_circuit.draw(scale=0.5)"
   ]
  },
  {
   "cell_type": "code",
   "execution_count": 29,
   "id": "52436751",
   "metadata": {
    "tags": []
   },
   "outputs": [
    {
     "name": "stdout",
     "output_type": "stream",
     "text": [
      "Submitting your answer. Please wait...\n",
      "Congratulations 🎉! Your answer is correct and has been submitted.\n"
     ]
    }
   ],
   "source": [
    "# Submit your circuit\n",
    "\n",
    "from qc_grader.challenges.spring_2023 import grade_ex5a\n",
    "\n",
    "grade_ex5a(ghz_circuit)"
   ]
  },
  {
   "cell_type": "markdown",
   "id": "0bfdf52c-3579-46c3-9765-56eece914c79",
   "metadata": {
    "slideshow": {
     "slide_type": "-"
    },
    "tags": []
   },
   "source": [
    "## Step 2: Reducing the Size by half\n",
    "\n",
    "We now want to use the GHZ-state you created to form a reduced GHZ-state only using the even numbered Qubits. For this we will need to unentangle the odd qubits, so that they can be measured without letting the GHZ-state collapse.\n",
    "\n",
    "Since we want to unentangle the Qubits, we can do it in a way to generate **stabilizers**, similar to what you did in Lab 4. The stabilizers must be 0 if both qubits that they are connected with have the same value, and they must be 1 if those values is different.\n",
    "\n",
    "What's the point in doing this? The astute observer might have already realized it - we can use these stabilizers to apply error correction to the reduced GHZ-state."
   ]
  },
  {
   "cell_type": "markdown",
   "id": "86c18247",
   "metadata": {},
   "source": [
    "### Exercise 2\n",
    "\n",
    "Unentangle the odd qubits of the created GHZ-state in order to create stabilizers. Again, you can challenge yourself to make the circuit depth as small as possible.\n",
    "\n",
    "*Hint: Take into account how you created your GHZ-state above. Your method of unentangling is specific to how it was created.*"
   ]
  },
  {
   "cell_type": "code",
   "execution_count": 31,
   "id": "9e9bd773-9908-4acc-b0ce-64cf5eb1db54",
   "metadata": {
    "slideshow": {
     "slide_type": "-"
    },
    "tags": []
   },
   "outputs": [
    {
     "name": "stdout",
     "output_type": "stream",
     "text": [
      "73\n"
     ]
    }
   ],
   "source": [
    "def deentangle_qubits():\n",
    "    qc = QuantumCircuit(quantum_register, classical_register)\n",
    "    \n",
    "    ####### your code goes here #######\n",
    "    # Apply CNOT gates in reverse order to unentangle the odd qubits\n",
    "    for i in reversed(stabilizer_qubits):\n",
    "        qc.cx(0,i)\n",
    "    qc.cx(0,13)\n",
    "    qc.cx(0,113)\n",
    "    return qc\n",
    "\n",
    "\n",
    "unentangle_circuit = deentangle_qubits()\n",
    "print(unentangle_circuit.depth())\n",
    "\n",
    "complete_circuit = ghz_circuit.compose(unentangle_circuit)"
   ]
  },
  {
   "cell_type": "code",
   "execution_count": 32,
   "id": "eec56294",
   "metadata": {
    "tags": []
   },
   "outputs": [
    {
     "name": "stdout",
     "output_type": "stream",
     "text": [
      "Submitting your answer. Please wait...\n",
      "Congratulations 🎉! Your answer is correct and has been submitted.\n"
     ]
    }
   ],
   "source": [
    "# Submit your circuit\n",
    "\n",
    "from qc_grader.challenges.spring_2023 import grade_ex5b\n",
    "\n",
    "grade_ex5b(complete_circuit)"
   ]
  },
  {
   "cell_type": "markdown",
   "id": "92bd8827-441d-4006-8d85-eb7a289bd64f",
   "metadata": {
    "slideshow": {
     "slide_type": "-"
    },
    "tags": []
   },
   "source": [
    "Good work. Now since all odd qubits are unentangled from the even qubits, we can measure them without collapsing the GHZ-state."
   ]
  },
  {
   "cell_type": "code",
   "execution_count": 33,
   "id": "e3148f17-d168-4a9d-a0d8-82213cefd329",
   "metadata": {
    "slideshow": {
     "slide_type": "-"
    },
    "tags": []
   },
   "outputs": [],
   "source": [
    "# Measuring stabilizers this can also be used in post processing to see what went wrong.\n",
    "\n",
    "\n",
    "def measure_stabilizers():\n",
    "    qc = QuantumCircuit(quantum_register, classical_register)\n",
    "    qc.measure(stabilizer_qubits, stabilizer_qubits)\n",
    "    return qc\n",
    "\n",
    "\n",
    "stabilizer_circuit = measure_stabilizers()"
   ]
  },
  {
   "cell_type": "markdown",
   "id": "606df18e-ae9b-41ae-bd0e-cd5b6698cf9d",
   "metadata": {
    "slideshow": {
     "slide_type": "-"
    },
    "tags": []
   },
   "source": [
    "These measurement results could be used to improve the 54 qubit GHZ-state, but we'll explore that idea later.\n",
    "\n",
    "After having measured the odd qubits, you could reset them and use the 54 GHZ-state in your algorithm, using the odd qubits as potential auxilliary qubits. However, before using your GHZ-state, let's test how good it is.\n",
    "\n",
    "We need to measure the 54 qubit GHZ-state!"
   ]
  },
  {
   "cell_type": "code",
   "execution_count": 34,
   "id": "0225debb-1fdc-4210-bd7a-9717386e63d5",
   "metadata": {
    "slideshow": {
     "slide_type": "-"
    },
    "tags": []
   },
   "outputs": [],
   "source": [
    "# Measuring the GHZ qubits\n",
    "\n",
    "\n",
    "def measure_ghz():\n",
    "    qc = QuantumCircuit(quantum_register, classical_register)\n",
    "    qc.measure(ghz_qubits, ghz_qubits)\n",
    "    return qc\n",
    "\n",
    "\n",
    "measure_circuit = measure_ghz()"
   ]
  },
  {
   "cell_type": "markdown",
   "id": "626508af-7785-49d6-9af1-aae36925908c",
   "metadata": {
    "slideshow": {
     "slide_type": "-"
    },
    "tags": []
   },
   "source": [
    "Now let's put everything together, so that we can test it."
   ]
  },
  {
   "cell_type": "code",
   "execution_count": 35,
   "id": "d0ed3661-c930-43b8-8096-dd1379faf9cb",
   "metadata": {
    "slideshow": {
     "slide_type": "-"
    },
    "tags": []
   },
   "outputs": [],
   "source": [
    "# Everything together\n",
    "\n",
    "simple_ghz = (\n",
    "    ghz_circuit.compose(unentangle_circuit)\n",
    "    .compose(stabilizer_circuit)\n",
    "    .compose(measure_circuit)\n",
    ")"
   ]
  },
  {
   "cell_type": "markdown",
   "id": "6e8f6b50-781f-4e03-951e-94fe73136bea",
   "metadata": {
    "slideshow": {
     "slide_type": "-"
    },
    "tags": []
   },
   "source": [
    "## Step 3: Preparing and Running on the Device\n",
    "\n",
    "We are now ready to run our GHZ-state on a real device, and for that it's time for `ibm_sherbrooke`\n",
    "\n",
    "There are not many people in the world who have worked with 127 qubits. You will be soon one of the few brave souls to say you have. One small step for quantum computing, one giant leap for your CV. \n",
    "\n",
    "Just kidding :-P\n",
    "\n",
    "-----\n",
    "\n",
    "First we prepare everything we need:"
   ]
  },
  {
   "cell_type": "code",
   "execution_count": 36,
   "id": "e7472b15-0be2-447b-9b66-6e57ca915fab",
   "metadata": {
    "slideshow": {
     "slide_type": "-"
    },
    "tags": []
   },
   "outputs": [],
   "source": [
    "# Importing provider and getting access to the system\n",
    "from qiskit_ibm_provider import IBMProvider\n",
    "from qiskit import transpile\n",
    "\n",
    "\n",
    "provider = IBMProvider()\n",
    "\n",
    "hub = \"qc-spring-23-8\"\n",
    "group = \"group-2\"\n",
    "project = \"recjkwSuZvqARwbzq\"\n",
    "\n",
    "backend_name = \"ibm_sherbrooke\"\n",
    "backend = provider.get_backend(backend_name, instance=f\"{hub}/{group}/{project}\")\n",
    "\n",
    "number_of_shots: int = 1024"
   ]
  },
  {
   "cell_type": "markdown",
   "id": "51277fb1-4759-456b-8b04-1c9a720cf4c8",
   "metadata": {
    "slideshow": {
     "slide_type": "-"
    },
    "tags": []
   },
   "source": [
    "We start by transpiling it for the actual device. This should not cause too many changes, since you (should have) had the physical device in mind when making the circuit originally, and only used connections which exist.\n",
    "\n",
    "If you didn't do that, now's a good time to go back and fix that, or hop over to the Discord to talk with others about how to think through that process."
   ]
  },
  {
   "cell_type": "code",
   "execution_count": 37,
   "id": "770c2477-0c21-4dd0-8ccb-96268b88f323",
   "metadata": {
    "slideshow": {
     "slide_type": "-"
    },
    "tags": []
   },
   "outputs": [],
   "source": [
    "# First we transpile the GHZ-state for the actual device\n",
    "qc_transpiled = transpile(simple_ghz, backend, initial_layout=initial_layout)"
   ]
  },
  {
   "cell_type": "markdown",
   "id": "3d20d85e-cef3-4b4d-a206-1ee9f452fcb0",
   "metadata": {
    "slideshow": {
     "slide_type": "-"
    },
    "tags": []
   },
   "source": [
    "Now we're ready to run the job on the 127-qubit device. Let's add some tags here to make it easier to find them in the future.\n",
    "\n",
    "Running the job will take some time, depending of how many other people are in the queue trying to run their jobs. Have you had your coffee yet today? Or maybe you're more of a tea drinker. I hear there's a great new show on Netflix."
   ]
  },
  {
   "cell_type": "code",
   "execution_count": 38,
   "id": "2f71e153-d6ee-4502-b60f-35b61f0ef555",
   "metadata": {
    "slideshow": {
     "slide_type": "-"
    },
    "tags": []
   },
   "outputs": [
    {
     "name": "stdout",
     "output_type": "stream",
     "text": [
      "chld3gdnopt07g3f31h0\n"
     ]
    }
   ],
   "source": [
    "# Now we can run the job\n",
    "# We add memory=true to be easier able to analyse  how good the result were and the tags to make it easier to find it later.\n",
    "job = backend.run(\n",
    "    qc_transpiled,\n",
    "    shots=number_of_shots,\n",
    "    memory=True,\n",
    "    job_tags=[\"ghz_state\", \"spring_challenge\"],\n",
    ")\n",
    "\n",
    "job_id = job.job_id()\n",
    "print(job_id)"
   ]
  },
  {
   "cell_type": "markdown",
   "id": "e2dc42bd-580a-427e-92c7-edc47de5aa84",
   "metadata": {
    "slideshow": {
     "slide_type": "-"
    },
    "tags": []
   },
   "source": [
    "In case you are coming back later, and want to retrieve a job, you can find it in the IBM Quantum Computing Homepage with the tags used above.\n",
    "\n",
    "Copy the name of your job (its id) and replace the *job_id* in the cell below with yours. A job id should look something like this: *ch36cf1pleju56fajrqg*\n",
    "\n",
    "Or you can just directly use the job_id of above cell."
   ]
  },
  {
   "cell_type": "code",
   "execution_count": 40,
   "id": "ae75b448-c873-4d8c-b6ff-234881030e61",
   "metadata": {
    "slideshow": {
     "slide_type": "-"
    },
    "tags": []
   },
   "outputs": [
    {
     "data": {
      "text/plain": [
       "<JobStatus.QUEUED: 'job is queued'>"
      ]
     },
     "execution_count": 40,
     "metadata": {},
     "output_type": "execute_result"
    }
   ],
   "source": [
    "# Change job id to the id of your previous submitted job something like \"ch36cf1pleju56fajrqg\"\n",
    "# You only need to run this if you come back at a later time\n",
    "job = provider.backend.retrieve_job(job_id)\n",
    "job.status()"
   ]
  },
  {
   "cell_type": "code",
   "execution_count": null,
   "id": "cded7265",
   "metadata": {},
   "outputs": [],
   "source": [
    "# Getting the data of the job for testing\n",
    "data = job.result().get_memory()"
   ]
  },
  {
   "cell_type": "markdown",
   "id": "6196bb31-15ed-43f4-a36f-920989715c02",
   "metadata": {
    "slideshow": {
     "slide_type": "-"
    },
    "tags": []
   },
   "source": [
    "## Step 4: Testing the GHZ-state\n",
    "\n",
    "You did it! You've run a GHZ-state circuit on a 127-qubit machine. That's awesome!!!\n",
    "\n",
    "Now that you have the results of your GHZ-state, it's time to examine it. We did not add any error mitigation or error correction, so you should expect results which still can be improved.\n",
    "\n",
    "There are different ways to test how \"good\" the results are. You can just look at the raw results, but since the qubits which are used for the GHZ-State are not next to each other, this might be a bit annoying. Having a function tell us about the quality, or about the errors in the GHZ-State, would be useful."
   ]
  },
  {
   "cell_type": "markdown",
   "id": "afce684a-490f-4460-8f4b-ed2bd6324cb7",
   "metadata": {},
   "source": [
    "### Exercise 3\n",
    "\n",
    "Create a function to test the GHZ-state.\n",
    "\n",
    "As Challenge authors, we decided to give you some freedom here in how you want to test your results. Please find a way which makes sense **for you.** It's important to say that the _lower the output_ of your function, the the _better_ your GHZ-state is.\n",
    "\n",
    "*Hint: This function should be made to test the data we have created, so you only need to test the qubits which are part of the GHZ-state*"
   ]
  },
  {
   "cell_type": "code",
   "execution_count": null,
   "id": "7e7f0ff0-ba28-4c1f-bcac-1d439e0a560f",
   "metadata": {
    "slideshow": {
     "slide_type": "-"
    },
    "tags": []
   },
   "outputs": [],
   "source": [
    "# A function to test the quality of a GHZ-state. The lower the better\n",
    "def test_ghz(data):\n",
    "    ghz_qubits = [\n",
    "        0,\n",
    "        2,\n",
    "        4,\n",
    "        6,\n",
    "        8,\n",
    "        10,\n",
    "        12,\n",
    "        18,\n",
    "        20,\n",
    "        22,\n",
    "        24,\n",
    "        26,\n",
    "        28,\n",
    "        30,\n",
    "        32,\n",
    "        37,\n",
    "        39,\n",
    "        41,\n",
    "        43,\n",
    "        45,\n",
    "        47,\n",
    "        49,\n",
    "        51,\n",
    "        56,\n",
    "        58,\n",
    "        60,\n",
    "        62,\n",
    "        64,\n",
    "        66,\n",
    "        68,\n",
    "        70,\n",
    "        75,\n",
    "        77,\n",
    "        79,\n",
    "        81,\n",
    "        83,\n",
    "        85,\n",
    "        81,\n",
    "        89,\n",
    "        94,\n",
    "        96,\n",
    "        98,\n",
    "        100,\n",
    "        102,\n",
    "        104,\n",
    "        106,\n",
    "        108,\n",
    "        114,\n",
    "        116,\n",
    "        118,\n",
    "        120,\n",
    "        122,\n",
    "        124,\n",
    "        126,\n",
    "    ]\n",
    "    \n",
    "    ####### your code goes here #######\n",
    "    \n",
    "    correlation_sum = 0\n",
    "    correlation_count = 0\n",
    "    \n",
    "    # Calculate pairwise correlation between GHZ-state qubits\n",
    "    for i in range(len(ghz_qubits)):\n",
    "        for j in range(i + 1, len(ghz_qubits)):\n",
    "            qubit_i = ghz_qubits[i]\n",
    "            qubit_j = ghz_qubits[j]\n",
    "            \n",
    "            counts_i = data.count(f'{qubit_i}')\n",
    "            counts_j = data.count(f'{qubit_j}')\n",
    "            counts_ij = data.count(f'{qubit_i}{qubit_j}')\n",
    "            \n",
    "            correlation = (counts_ij / len(data)) - (counts_i / len(data)) * (counts_j / len(data))\n",
    "            \n",
    "            correlation_sum += correlation\n",
    "            correlation_count += 1\n",
    "        \n",
    "    average_correlation = correlation_sum / correlation_count\n",
    "    return average_correlation\n",
    "\n",
    "test_ghz(data)"
   ]
  },
  {
   "cell_type": "markdown",
   "id": "78ed4b94-2f2a-4f95-9bd7-ae9594b13f12",
   "metadata": {
    "slideshow": {
     "slide_type": "-"
    },
    "tags": []
   },
   "source": [
    "You now have a number rating your results, based on a function you designed. \n",
    "\n",
    "Before we go on, think about your method. \n",
    "- What would the number be for a really good state? \n",
    "- What about for a really bad state? \n",
    "- What does a \"bad state\" even look like? \n",
    "- How can you design a function that's easy for someone to understand what its telling them? \n",
    "\n",
    "These are all questions that IBM Researchers think about daily, and it keeps us extremely motivated to continue to make our devices and services as strong and easy-to-understand as possible. If this type of work is interesting to you as well, let us know!"
   ]
  },
  {
   "cell_type": "markdown",
   "id": "232165a6-8bd8-4fd9-99e6-eea55a661953",
   "metadata": {},
   "source": [
    "Now let's test your testing function and let's see if it does what it should. Remember, it should give low results for good states, which have fewer errors, and high results for states with lots of errors."
   ]
  },
  {
   "cell_type": "code",
   "execution_count": null,
   "id": "b6bbc4fe-94f6-4131-95ec-a8243482bb17",
   "metadata": {
    "slideshow": {
     "slide_type": "-"
    },
    "tags": []
   },
   "outputs": [],
   "source": [
    "# Submit your circuit\n",
    "\n",
    "from qc_grader.challenges.spring_2023 import grade_ex5c\n",
    "\n",
    "# Since we test here a function, we do not need brackets after test_ghz, since the input is the function\n",
    "grade_ex5c(test_ghz)"
   ]
  },
  {
   "cell_type": "markdown",
   "id": "f278f65b-4896-46b3-aa7c-bfea2ed866b1",
   "metadata": {
    "slideshow": {
     "slide_type": "-"
    },
    "tags": []
   },
   "source": [
    "Now the question is: how can we improve on it?\n",
    "\n",
    "One of the first steps would be to try to decrease the depth of the circuit further. Let's look at the depth of your transpiled circuit:\n"
   ]
  },
  {
   "cell_type": "code",
   "execution_count": null,
   "id": "7d2ce1e5-8fc7-4ad6-ac80-04688c897285",
   "metadata": {
    "slideshow": {
     "slide_type": "-"
    },
    "tags": []
   },
   "outputs": [],
   "source": [
    "qc_transpiled.depth()"
   ]
  },
  {
   "cell_type": "markdown",
   "id": "3322071d-a207-494e-ac17-a039a6a31743",
   "metadata": {
    "slideshow": {
     "slide_type": "-"
    },
    "tags": []
   },
   "source": [
    "We can see that the depth got bigger during the transpilation process, by more than a factor of 2.\n",
    "\n",
    "Take a peek at how it looks, to see where this additional depth comes from:"
   ]
  },
  {
   "cell_type": "code",
   "execution_count": null,
   "id": "f6d42633-03fc-405b-af40-970e70e48c2d",
   "metadata": {
    "slideshow": {
     "slide_type": "-"
    },
    "tags": []
   },
   "outputs": [],
   "source": [
    "qc_transpiled.draw()"
   ]
  },
  {
   "cell_type": "markdown",
   "id": "edaa3f49-6fe8-498a-979f-f84a3b6cbfe9",
   "metadata": {
    "slideshow": {
     "slide_type": "-"
    },
    "tags": []
   },
   "source": [
    "What we see is that the Hadamard gate and the CX-gate got transpiled into other Gates. This is not surprising for the Hadamard gate, since none of the IBM Quantum devices support it directly. A Hadamard is always constructed using 3 rotations. On the other hand, the ECR-gate which you see is new, and only used in some devices. It is also an entangling gate, similar to the CX-gate, but it works a bit different. A CX-gate can be made using only a single ECR-gate and local rotations.\n",
    "\n",
    "You can find more about the ECR-gate here: https://qiskit.org/documentation/stable/0.39/stubs/qiskit.circuit.library.ECRGate.html \n",
    "\n",
    "Reducing depth is often the best way to minimize the error rate. Now that you know that the ECR-gate is used instead, could you make a circuit with a better depth?\n",
    "\n",
    "If you are interested in exploring that question and other methods to make the GHZ-state better, feel free to read on. The following part of the Lab is just a bonus: there are no exercises left. It is meant as a short outlook to show how error correction could be used, but also showing why error correction can be hard. \n"
   ]
  },
  {
   "cell_type": "markdown",
   "id": "0d92d49b-f0e9-491d-9178-b6535bb9f00c",
   "metadata": {},
   "source": [
    "Whether you choose to continue or not, give yourself a round of applause: **You have just completed the IBM Quantum Challenge: Spring 2023!** Go brag about it to everyone else in the Discord, we'll see you there!"
   ]
  },
  {
   "cell_type": "markdown",
   "id": "9a82183f-8bc3-45e8-a7a0-d08a3e21824b",
   "metadata": {
    "slideshow": {
     "slide_type": "-"
    },
    "tags": []
   },
   "source": [
    "# Bonus: The Way to Correcting Errors\n",
    "\n",
    "\n",
    "Error correction is still an active and important research topic. So correcting errors on a real device, even in a simple case like our GHZ-state example, is not that straight forward and we want to give you the opportunity to come up with your own ideas, while giving you some guidance and hints on what potential ways could be.\n",
    "\n",
    "\n",
    "\n",
    "## Step 1: How good is the actual State?\n",
    "\n",
    "Before we can correct any errors, we first need to know how good the state was, and even this is not as straight forward as one might think.\n",
    "\n",
    "\n",
    "The simplest way for testing how good your GHZ-state was, is to test how many of the even numbered qubits have different results from the majority. This is what you have most likely used above.\n",
    "\n",
    "\n",
    "However, this does not necessarily mean that this also correlated with the number of errors which occurred . And one could say that the number of errors which occurred  is more important, for telling how good the GHZ-state is.\n",
    "\n",
    "\n",
    "**Example A** to illustrate this thought: Let's say we have 10 qubits connected in a line and form a GHZ-state with them:\n",
    "\n",
    "0 - 1 - 2 - 3 - 4 - 5 - 6 - 7 - 8 - 9\n",
    "\n",
    "If we now say that error occurred  not in the readout, but when applying the entangling gate between qubit 4 and qubit 5 the output could look like this:\n",
    "\n",
    "0000011111 \n",
    "\n",
    "This would be the worst possible result for the measurement \"how many qubits have the same result\".\n",
    "\n",
    "For this reason a run in which more errors occurred, could actually lead to a better measure for \"how many qubits have the same result\" although most likely that state would be a lot less useful.\n",
    "\n",
    "If the above state would have been created and you had (working) stabilizer measurements between the qubits, you would only have the one between qubit 4 and 5 be 1. And to correct that error you could potentially just flip qubits 5-9.\n",
    "\n",
    "\n",
    "To get a first idea on how the errors look like for your case, it might be a good idea, to look at the raw data, the results which you got from running it on the actual device, and taking into account how you built the GHZ-state.\n",
    "\n",
    "\n",
    "For **Example A**  we could maybe find an error correction which would look like this:\n"
   ]
  },
  {
   "cell_type": "code",
   "execution_count": null,
   "id": "4d96b276-ccbd-4183-8d44-6055cea976b7",
   "metadata": {
    "slideshow": {
     "slide_type": "-"
    },
    "tags": []
   },
   "outputs": [],
   "source": [
    "# Simple idea for Example A find where the error happened and flip accordingly\n",
    "def correct_ghz():\n",
    "    qc = QuantumCircuit(quantum_register, classical_register)\n",
    "\n",
    "    with qc.if_test((classical_register[9], 1)):\n",
    "        qc.x(quantum_register[9])\n",
    "\n",
    "    with qc.if_test((classical_register[8], 1)):\n",
    "        qc.x(quantum_register[8])\n",
    "\n",
    "    with qc.if_test((classical_register[8], 1)):\n",
    "        qc.x(quantum_register[9])\n",
    "\n",
    "    with qc.if_test((classical_register[7], 1)):\n",
    "        qc.x(quantum_register[9])\n",
    "\n",
    "    with qc.if_test((classical_register[7], 1)):\n",
    "        qc.x(quantum_register[8])\n",
    "\n",
    "    with qc.if_test((classical_register[7], 1)):\n",
    "        qc.x(quantum_register[7])\n",
    "\n",
    "    # ...\n",
    "\n",
    "    # qc.barrier()\n",
    "    return qc\n",
    "\n",
    "\n",
    "correcting_circuit = correct_ghz()"
   ]
  },
  {
   "cell_type": "markdown",
   "id": "76751955-fa29-40d8-a033-0949d94af4f2",
   "metadata": {
    "slideshow": {
     "slide_type": "-"
    },
    "tags": []
   },
   "source": [
    "And if we would now adapt the above code to our 54 GHZ case, we could build everything together:\n"
   ]
  },
  {
   "cell_type": "code",
   "execution_count": null,
   "id": "ff234bbb-4ef5-461e-b6e0-2d23ba62ddba",
   "metadata": {
    "slideshow": {
     "slide_type": "-"
    },
    "tags": []
   },
   "outputs": [],
   "source": [
    "# Everything together corrected\n",
    "\n",
    "error_corrected_ghz = (\n",
    "    ghz_circuit.compose(unentangle_circuit)\n",
    "    .compose(stabilizer_circuit)\n",
    "    .compose(correcting_circuit)\n",
    "    .compose(measure_circuit)\n",
    ")"
   ]
  },
  {
   "cell_type": "markdown",
   "id": "c71cfe66-a165-47d6-b8d2-b819c4b0ccb4",
   "metadata": {
    "slideshow": {
     "slide_type": "-"
    },
    "tags": []
   },
   "source": [
    "## Step 2: Why considering single stabilizers might not be enough.\n",
    "\n",
    "In the error correction exercise, we have seen that you could either use single bits, or the whole bitstring from the measurement of the stabilizer qubits in order to condition operations on them.\n",
    "\n",
    "Since our stabilizer measurements are 54 bits long, using the whole bit strings to condition on them, is not feasible, since this would need 2^54 different bitstrings which need to be considered.\n",
    "\n",
    "\n",
    "On the other hand, if we just consider single bit it might not be possible/overly complicated.\n",
    "\n",
    "\n",
    "**Example B**: We have again 10 qubits connected in a line and form a GHZ-state with them:\n",
    "\n",
    "0 - 1 - 2 - 3 - 4 - 5 - 6 - 7 - 8 - 9\n",
    "\n",
    "Now we assume that we get as the measurement result 0000010000\n",
    "\n",
    "If we have stabilizer measurements in this case the one on the right of the 1 and the one on the left of the 1 would both have value 1.\n",
    "\n",
    "This means in this case just looking at a single stabilizer would not be enough to know that you only need to flip qubit number 5 (and no others), unless we would be ok with flipping some qubits several times, which is not ideal. \n",
    "\n",
    "So in this case it would be ideal if we could apply functions to the measurement results of the stabilizers, and use their results for as conditions in the dynamic circuits. \n",
    "\n",
    "This is possible, however, this needs to be done in Open QASM3 code, instead of in Qiskit, which will not be covered in this exercise.\n",
    "If you are interested to learn more about Dynamic Circuits with Open QASM3 you can find information about it here: \n",
    "\n",
    "https://quantum-computing.ibm.com/services/resources/docs/resources/manage/systems/dynamic-circuits/Dynamic-Circuits-basics-with-OpenQASM3\n",
    "\n",
    "\n",
    "Below is a simple example to show you how Open QASM3 code looks like:\n"
   ]
  },
  {
   "cell_type": "code",
   "execution_count": null,
   "id": "4e502711-6741-4082-a055-ff4f03dbef11",
   "metadata": {
    "slideshow": {
     "slide_type": "-"
    },
    "tags": []
   },
   "outputs": [],
   "source": [
    "from qiskit import qasm3, QuantumCircuit, transpile\n",
    "\n",
    "# Creating a bell circuit\n",
    "qc_bell = QuantumCircuit(2, 2)\n",
    "qc_bell.h(0)\n",
    "qc_bell.cx(0, 1)\n",
    "qc_bell.measure(0, 0)\n",
    "qc_bell.measure(0, 1)\n",
    "\n",
    "# Transpiling it for our device (as above it does not have the H- and CX- Gates)\n",
    "qc_bell = transpile(qc_bell, backend)\n",
    "\n",
    "# Generate qasm3 code before we can print it\n",
    "exporter = qasm3.Exporter(\n",
    "    includes=[], disable_constants=True, basis_gates=backend.configuration().basis_gates\n",
    ")\n",
    "print(qasm3_bell := exporter.dumps(qc_bell))\n",
    "\n",
    "# Draw a circuit as comparison\n",
    "qc_bell.draw(output=\"mpl\", idle_wires=False)"
   ]
  },
  {
   "cell_type": "markdown",
   "id": "9ff29862-0ee6-45d4-89cb-b1081041c84f",
   "metadata": {
    "slideshow": {
     "slide_type": "-"
    },
    "tags": []
   },
   "source": [
    "## Step 3: How not to introduce more Errors\n",
    "\n",
    "\n",
    "There are different reasons which can lead to errors. Decoherence over time and errors introduced in entangling gates like the CX-Gate are two of them. Both of them can also apply to the stabilizers and we have to make sure to not introduce more noise by our attempts of correcting it, since that would beat the whole purpose. This might be less of a problem in the future, when the general error rate will go further down, but is still something which needs to be considered.\n",
    "\n",
    "What does this mean for us?\n",
    "\n",
    "Well one can think of when we want to create and measure the stabilizers. Do we unentangle them directly after they are no longer used for entangling the next qubit?  Do we wait until the whole circuit is entangled? (This of course depends on which kind of errors we might want to correct). We can also think about resetting the stabilizers and create new ones later (using the same qubits) and use 2 phases in which we try to correct errors.\n",
    "\n",
    "\n",
    "\n",
    "And we can think of what the probability is that an error occurred  from entangling a qubit (through the stabilizer) and compare it to the probability that an error is introduced in the stabilizer by unentangling it. So maybe having the stabilizers just makes it worse?\n",
    "\n",
    "When is this worth it? You can play around with the code below to get some impressions and ideas, again this is something which can change in the future, when error rates will go further down."
   ]
  },
  {
   "cell_type": "code",
   "execution_count": null,
   "id": "2e2e7294-df6e-4d99-bcce-5469c09a40df",
   "metadata": {
    "slideshow": {
     "slide_type": "-"
    },
    "tags": []
   },
   "outputs": [],
   "source": [
    "# All the probabilities here only consider errors introduced by the CX gate and assumes they are bit flip errors.\n",
    "\n",
    "# Probability for a single CX gate\n",
    "p1 = 0.01\n",
    "# Probability that there is an error after 2 CX gates (going through stabilizer)\n",
    "p2 = p1 * (1 - p1) + (1 - p1) * p1\n",
    "# Probability that the stabilizer shows something wrong even though it is correct\n",
    "p3 = p1 * p1 + (1 - p1) * (1 - p1) * p1\n",
    "\n",
    "print(\"Probability of a single cx having an error: {}\".format(p1))\n",
    "print(\"Probability of having an error after 2 cx: {:.4f}\".format(p2))\n",
    "print(\"Probability of the stabilizer showing a non existent error: {:.4f}\".format(p3))"
   ]
  },
  {
   "cell_type": "markdown",
   "id": "a122c390-a440-4ad0-9838-deb55ecd1d17",
   "metadata": {
    "slideshow": {
     "slide_type": "-"
    },
    "tags": []
   },
   "source": [
    "## Step 4: What can one do?\n",
    "\n",
    "There are a lot of possibilities you can try:\n",
    "\n",
    "\n",
    "\n",
    "- You can try to find some good logical functions using several stabilizers and use QASM3\n",
    "\n",
    "- You can think about resetting the stabilizers and reusing them.\n",
    "\n",
    "- You can try if the simple approach as seen in example A could be made to work (by changing the timing of when the measurements are made.)\n",
    "\n",
    "- You can find your own idea! be creative!\n",
    "\n",
    "\n",
    "What is important for all of them is that you not just blindly start trying on the quantum computer, but instead try to verify your ideas first using the data of letting the initial GHZ-state run on the device.\n",
    "\n",
    "You have created testing data above: You have the output of the GHZ-state and also the output of the stabilizers.\n",
    "\n",
    "\n",
    "If your approach does not work as postprocessing, then running it on the actual device, where all the operations have a further error rate, will also not work.\n",
    "\n",
    "When you have an algorithm which works in theory with the data you have (and generated better GHZ-state according to your test you can use the code below to try to let your whole circuit, including the error correction, run on the actual device. \n",
    "\n",
    "*Hint: Make sure you use the error_correction function above and also generate the error_corrected_ghz above.*"
   ]
  },
  {
   "cell_type": "code",
   "execution_count": null,
   "id": "e073f632-2e2d-4d53-b615-d86c8ef5c5e2",
   "metadata": {
    "slideshow": {
     "slide_type": "-"
    },
    "tags": []
   },
   "outputs": [],
   "source": [
    "# First we transpile the GHZ-state for the actual device\n",
    "qc_corrected_transpiled = transpile(\n",
    "    error_corrected_ghz, backend, initial_layout=initial_layout\n",
    ")\n",
    "\n",
    "# Now we can run the job\n",
    "job_corrected = backend.run(\n",
    "    qc_corrected_transpiled,\n",
    "    dynamic=True,\n",
    "    shots=number_of_shots,\n",
    "    memory=True,\n",
    "    job_tags=[\"dynamic\", \"spring_challenge\"],\n",
    ")\n",
    "\n",
    "job_id = job_corrected.job_id()\n",
    "print(job_id)"
   ]
  },
  {
   "cell_type": "code",
   "execution_count": null,
   "id": "d43fa5a3",
   "metadata": {},
   "outputs": [],
   "source": [
    "job_corrected = provider.retrieve_job(job_id)\n",
    "job_corrected.status()"
   ]
  },
  {
   "cell_type": "code",
   "execution_count": null,
   "id": "5c8bb7c6",
   "metadata": {},
   "outputs": [],
   "source": [
    "# And get the results back\n",
    "counts_corrected = job_corrected.result().get_counts()"
   ]
  }
 ],
 "metadata": {
  "celltoolbar": "Slideshow",
  "kernelspec": {
   "display_name": "Python 3 (ipykernel)",
   "language": "python",
   "name": "python3"
  },
  "language_info": {
   "codemirror_mode": {
    "name": "ipython",
    "version": 3
   },
   "file_extension": ".py",
   "mimetype": "text/x-python",
   "name": "python",
   "nbconvert_exporter": "python",
   "pygments_lexer": "ipython3",
   "version": "3.10.8"
  },
  "widgets": {
   "application/vnd.jupyter.widget-state+json": {
    "state": {},
    "version_major": 2,
    "version_minor": 0
   }
  }
 },
 "nbformat": 4,
 "nbformat_minor": 5
}
